{
  "nbformat": 4,
  "nbformat_minor": 0,
  "metadata": {
    "colab": {
      "provenance": [],
      "authorship_tag": "ABX9TyMYm8iPNP7NM0aYzGQorqYf",
      "include_colab_link": true
    },
    "kernelspec": {
      "name": "python3",
      "display_name": "Python 3"
    },
    "language_info": {
      "name": "python"
    }
  },
  "cells": [
    {
      "cell_type": "markdown",
      "metadata": {
        "id": "view-in-github",
        "colab_type": "text"
      },
      "source": [
        "<a href=\"https://colab.research.google.com/github/mhamadsardar/Bisection/blob/main/Falsemethod%20.ipynb\" target=\"_parent\"><img src=\"https://colab.research.google.com/assets/colab-badge.svg\" alt=\"Open In Colab\"/></a>"
      ]
    },
    {
      "cell_type": "code",
      "execution_count": null,
      "metadata": {
        "id": "A9-Azny-GH9G"
      },
      "outputs": [],
      "source": [
        "def f(x):\n",
        "    return x**3-5*x-9\n",
        "\n",
        "def falsePosition(x0,x1,e):\n",
        "    step = 1\n",
        "    print('\\n\\n*** FALSE POSITION METHOD IMPLEMENTATION ***')\n",
        "    condition = True\n",
        "    while condition:\n",
        "        x2 = x0 - (x1-x0) * f(x0)/( f(x1) - f(x0) )\n",
        "        print('Iteration-%d, x2 = %0.6f and f(x2) = %0.6f' % (step, x2, f(x2)))\n",
        "\n",
        "        if f(x0) * f(x2) < 0:\n",
        "            x1 = x2\n",
        "        else:\n",
        "            x0 = x2\n",
        "\n",
        "        step = step + 1\n",
        "        condition = abs(f(x2)) > e\n",
        "\n",
        "    print('\\nRequired root is: %0.8f' % x2)\n",
        "\n",
        "\n",
        "x0 = input('First Guess: ')\n",
        "x1 = input('Second Guess: ')\n",
        "e = input('Tolerable Error: ')\n",
        "\n",
        "x0 = float(x0)\n",
        "x1 = float(x1)\n",
        "e = float(e)\n",
        "\n",
        "if f(x0) * f(x1) > 0.0:\n",
        "    print('Given guess values do not bracket the root.')\n",
        "    print('Try Again with different guess values.')\n",
        "else:\n",
        "    falsePosition(x0,x1,e)"
      ]
    }
  ]
}